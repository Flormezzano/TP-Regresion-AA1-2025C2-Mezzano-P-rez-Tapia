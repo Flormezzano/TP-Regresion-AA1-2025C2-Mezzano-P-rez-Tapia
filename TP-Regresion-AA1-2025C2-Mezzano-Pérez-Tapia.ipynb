{
 "cells": [
  {
   "cell_type": "code",
   "execution_count": 1,
   "metadata": {
    "id": "UfS9klMysiJe"
   },
   "outputs": [],
   "source": [
    "import pandas as pd\n",
    "import numpy as np\n",
    "\n",
    "import seaborn as sns\n",
    "import matplotlib.pyplot as plt\n",
    "\n",
    "import plotly.express as px\n",
    "import plotly.graph_objects as go\n",
    "import plotly.figure_factory as ff\n",
    "\n",
    "from sklearn.model_selection import train_test_split\n",
    "from sklearn.preprocessing import StandardScaler   # u otros scalers\n",
    "from sklearn.linear_model import LinearRegression, Lasso, Ridge, ElasticNet, LassoCV, RidgeCV, ElasticNetCV\n",
    "from sklearn.metrics import mean_squared_error, r2_score"
   ]
  },
  {
   "cell_type": "code",
   "execution_count": 160,
   "metadata": {
    "id": "Etu10JAIsiJk"
   },
   "outputs": [],
   "source": [
    "### carga datos de dataset en dataframe\n",
    "file_path= 'uber_fares.csv'\n",
    "\n",
    "df = pd.read_csv(file_path)"
   ]
  },
  {
   "cell_type": "code",
   "execution_count": 161,
   "metadata": {
    "id": "E4wFXcfZsiJm",
    "outputId": "26d5e365-cdcd-48ff-df86-65ef8a784b32"
   },
   "outputs": [
    {
     "data": {
      "text/html": [
       "<div>\n",
       "<style scoped>\n",
       "    .dataframe tbody tr th:only-of-type {\n",
       "        vertical-align: middle;\n",
       "    }\n",
       "\n",
       "    .dataframe tbody tr th {\n",
       "        vertical-align: top;\n",
       "    }\n",
       "\n",
       "    .dataframe thead th {\n",
       "        text-align: right;\n",
       "    }\n",
       "</style>\n",
       "<table border=\"1\" class=\"dataframe\">\n",
       "  <thead>\n",
       "    <tr style=\"text-align: right;\">\n",
       "      <th></th>\n",
       "      <th>key</th>\n",
       "      <th>date</th>\n",
       "      <th>fare_amount</th>\n",
       "      <th>pickup_datetime</th>\n",
       "      <th>pickup_longitude</th>\n",
       "      <th>pickup_latitude</th>\n",
       "      <th>dropoff_longitude</th>\n",
       "      <th>dropoff_latitude</th>\n",
       "      <th>passenger_count</th>\n",
       "    </tr>\n",
       "  </thead>\n",
       "  <tbody>\n",
       "    <tr>\n",
       "      <th>0</th>\n",
       "      <td>24238194</td>\n",
       "      <td>2015-05-07 19:52:06.0000003</td>\n",
       "      <td>7.5</td>\n",
       "      <td>2015-05-07 19:52:06 UTC</td>\n",
       "      <td>-73.999817</td>\n",
       "      <td>40.738354</td>\n",
       "      <td>-73.999512</td>\n",
       "      <td>40.723217</td>\n",
       "      <td>1</td>\n",
       "    </tr>\n",
       "    <tr>\n",
       "      <th>1</th>\n",
       "      <td>27835199</td>\n",
       "      <td>2009-07-17 20:04:56.0000002</td>\n",
       "      <td>7.7</td>\n",
       "      <td>2009-07-17 20:04:56 UTC</td>\n",
       "      <td>-73.994355</td>\n",
       "      <td>40.728225</td>\n",
       "      <td>-73.994710</td>\n",
       "      <td>40.750325</td>\n",
       "      <td>1</td>\n",
       "    </tr>\n",
       "    <tr>\n",
       "      <th>2</th>\n",
       "      <td>44984355</td>\n",
       "      <td>2009-08-24 21:45:00.00000061</td>\n",
       "      <td>12.9</td>\n",
       "      <td>2009-08-24 21:45:00 UTC</td>\n",
       "      <td>-74.005043</td>\n",
       "      <td>40.740770</td>\n",
       "      <td>-73.962565</td>\n",
       "      <td>40.772647</td>\n",
       "      <td>1</td>\n",
       "    </tr>\n",
       "    <tr>\n",
       "      <th>3</th>\n",
       "      <td>25894730</td>\n",
       "      <td>2009-06-26 08:22:21.0000001</td>\n",
       "      <td>5.3</td>\n",
       "      <td>2009-06-26 08:22:21 UTC</td>\n",
       "      <td>-73.976124</td>\n",
       "      <td>40.790844</td>\n",
       "      <td>-73.965316</td>\n",
       "      <td>40.803349</td>\n",
       "      <td>3</td>\n",
       "    </tr>\n",
       "    <tr>\n",
       "      <th>4</th>\n",
       "      <td>17610152</td>\n",
       "      <td>2014-08-28 17:47:00.000000188</td>\n",
       "      <td>16.0</td>\n",
       "      <td>2014-08-28 17:47:00 UTC</td>\n",
       "      <td>-73.925023</td>\n",
       "      <td>40.744085</td>\n",
       "      <td>-73.973082</td>\n",
       "      <td>40.761247</td>\n",
       "      <td>5</td>\n",
       "    </tr>\n",
       "  </tbody>\n",
       "</table>\n",
       "</div>"
      ],
      "text/plain": [
       "        key                           date  fare_amount  \\\n",
       "0  24238194    2015-05-07 19:52:06.0000003          7.5   \n",
       "1  27835199    2009-07-17 20:04:56.0000002          7.7   \n",
       "2  44984355   2009-08-24 21:45:00.00000061         12.9   \n",
       "3  25894730    2009-06-26 08:22:21.0000001          5.3   \n",
       "4  17610152  2014-08-28 17:47:00.000000188         16.0   \n",
       "\n",
       "           pickup_datetime  pickup_longitude  pickup_latitude  \\\n",
       "0  2015-05-07 19:52:06 UTC        -73.999817        40.738354   \n",
       "1  2009-07-17 20:04:56 UTC        -73.994355        40.728225   \n",
       "2  2009-08-24 21:45:00 UTC        -74.005043        40.740770   \n",
       "3  2009-06-26 08:22:21 UTC        -73.976124        40.790844   \n",
       "4  2014-08-28 17:47:00 UTC        -73.925023        40.744085   \n",
       "\n",
       "   dropoff_longitude  dropoff_latitude  passenger_count  \n",
       "0         -73.999512         40.723217                1  \n",
       "1         -73.994710         40.750325                1  \n",
       "2         -73.962565         40.772647                1  \n",
       "3         -73.965316         40.803349                3  \n",
       "4         -73.973082         40.761247                5  "
      ]
     },
     "execution_count": 161,
     "metadata": {},
     "output_type": "execute_result"
    }
   ],
   "source": [
    "### visualizacion de algunos datos\n",
    "df.head()"
   ]
  },
  {
   "cell_type": "markdown",
   "metadata": {
    "id": "xd_uOYe1siJn"
   },
   "source": [
    "#### Contexto  \n",
    "El proyecto trata sobre **Uber Inc.**, la compañía de taxis más grande del mundo. En este trabajo, nuestro objetivo es **predecir la tarifa de futuros viajes**.  \n",
    "\n",
    "Uber brinda servicio a millones de clientes cada día, por lo que gestionar adecuadamente sus datos es clave para desarrollar nuevas estrategias de negocio y obtener mejores resultados.  \n",
    "\n",
    "### Variables del conjunto de datos  \n",
    "\n",
    "**Variables explicativas:**  \n",
    "- **key**: identificador único de cada viaje.  \n",
    "- **pickup_datetime**: fecha y hora en que se inició el viaje.  \n",
    "- **passenger_count**: cantidad de pasajeros en el vehículo (dato ingresado por el conductor).  \n",
    "- **pickup_longitude**: longitud del punto de inicio del viaje.  \n",
    "- **pickup_latitude**: latitud del punto de inicio del viaje.  \n",
    "- **dropoff_longitude**: longitud del punto de destino.  \n",
    "- **dropoff_latitude**: latitud del punto de destino.  \n",
    "\n",
    "**Variable objetivo (target):**  \n",
    "- **fare_amount**: costo del viaje en dólares.  "
   ]
  },
  {
   "cell_type": "code",
   "execution_count": 162,
   "metadata": {
    "id": "tf2N8kt_siJp",
    "outputId": "8b0f80b4-5783-4e13-cc89-aa7416b0f0f3"
   },
   "outputs": [
    {
     "data": {
      "text/plain": [
       "Index(['key', 'date', 'fare_amount', 'pickup_datetime', 'pickup_longitude',\n",
       "       'pickup_latitude', 'dropoff_longitude', 'dropoff_latitude',\n",
       "       'passenger_count'],\n",
       "      dtype='object')"
      ]
     },
     "execution_count": 162,
     "metadata": {},
     "output_type": "execute_result"
    }
   ],
   "source": [
    "### Columnas, ¿cuáles son variables numéricas y cuales variables categóricas?\n",
    "df.columns"
   ]
  },
  {
   "cell_type": "code",
   "execution_count": 163,
   "metadata": {
    "id": "4G7p47V_siJq",
    "outputId": "a7eb128e-f4ae-4332-c92d-162cc8733da7"
   },
   "outputs": [
    {
     "name": "stdout",
     "output_type": "stream",
     "text": [
      "<class 'pandas.core.frame.DataFrame'>\n",
      "RangeIndex: 200000 entries, 0 to 199999\n",
      "Data columns (total 9 columns):\n",
      " #   Column             Non-Null Count   Dtype  \n",
      "---  ------             --------------   -----  \n",
      " 0   key                200000 non-null  int64  \n",
      " 1   date               200000 non-null  object \n",
      " 2   fare_amount        200000 non-null  float64\n",
      " 3   pickup_datetime    200000 non-null  object \n",
      " 4   pickup_longitude   200000 non-null  float64\n",
      " 5   pickup_latitude    200000 non-null  float64\n",
      " 6   dropoff_longitude  199999 non-null  float64\n",
      " 7   dropoff_latitude   199999 non-null  float64\n",
      " 8   passenger_count    200000 non-null  int64  \n",
      "dtypes: float64(5), int64(2), object(2)\n",
      "memory usage: 13.7+ MB\n"
     ]
    }
   ],
   "source": [
    "df.info()"
   ]
  },
  {
   "cell_type": "code",
   "execution_count": 164,
   "metadata": {
    "id": "R5wJn1kQsiJr"
   },
   "outputs": [
    {
     "data": {
      "text/html": [
       "<div>\n",
       "<style scoped>\n",
       "    .dataframe tbody tr th:only-of-type {\n",
       "        vertical-align: middle;\n",
       "    }\n",
       "\n",
       "    .dataframe tbody tr th {\n",
       "        vertical-align: top;\n",
       "    }\n",
       "\n",
       "    .dataframe thead th {\n",
       "        text-align: right;\n",
       "    }\n",
       "</style>\n",
       "<table border=\"1\" class=\"dataframe\">\n",
       "  <thead>\n",
       "    <tr style=\"text-align: right;\">\n",
       "      <th></th>\n",
       "      <th>key</th>\n",
       "      <th>date</th>\n",
       "      <th>pickup_datetime</th>\n",
       "      <th>pickup_longitude</th>\n",
       "      <th>pickup_latitude</th>\n",
       "      <th>dropoff_longitude</th>\n",
       "      <th>dropoff_latitude</th>\n",
       "      <th>passenger_count</th>\n",
       "    </tr>\n",
       "  </thead>\n",
       "  <tbody>\n",
       "    <tr>\n",
       "      <th>153248</th>\n",
       "      <td>17778666</td>\n",
       "      <td>2009-11-19 21:59:00.00000086</td>\n",
       "      <td>2009-11-19 21:59:00 UTC</td>\n",
       "      <td>-73.978585</td>\n",
       "      <td>40.748388</td>\n",
       "      <td>-73.976913</td>\n",
       "      <td>40.784958</td>\n",
       "      <td>1</td>\n",
       "    </tr>\n",
       "    <tr>\n",
       "      <th>67802</th>\n",
       "      <td>54334677</td>\n",
       "      <td>2013-02-27 22:29:15.0000004</td>\n",
       "      <td>2013-02-27 22:29:15 UTC</td>\n",
       "      <td>-73.978198</td>\n",
       "      <td>40.752533</td>\n",
       "      <td>-73.909752</td>\n",
       "      <td>40.874372</td>\n",
       "      <td>1</td>\n",
       "    </tr>\n",
       "    <tr>\n",
       "      <th>148889</th>\n",
       "      <td>11815656</td>\n",
       "      <td>2014-06-01 08:48:00.00000094</td>\n",
       "      <td>2014-06-01 08:48:00 UTC</td>\n",
       "      <td>-73.994242</td>\n",
       "      <td>40.751227</td>\n",
       "      <td>-73.999432</td>\n",
       "      <td>40.762037</td>\n",
       "      <td>1</td>\n",
       "    </tr>\n",
       "    <tr>\n",
       "      <th>103093</th>\n",
       "      <td>28734805</td>\n",
       "      <td>2010-07-10 23:10:00.00000019</td>\n",
       "      <td>2010-07-10 23:10:00 UTC</td>\n",
       "      <td>-73.951705</td>\n",
       "      <td>40.778330</td>\n",
       "      <td>-73.956050</td>\n",
       "      <td>40.777560</td>\n",
       "      <td>2</td>\n",
       "    </tr>\n",
       "    <tr>\n",
       "      <th>104681</th>\n",
       "      <td>54482655</td>\n",
       "      <td>2013-09-29 13:36:00.000000167</td>\n",
       "      <td>2013-09-29 13:36:00 UTC</td>\n",
       "      <td>-73.989120</td>\n",
       "      <td>40.736932</td>\n",
       "      <td>-73.782890</td>\n",
       "      <td>40.643947</td>\n",
       "      <td>1</td>\n",
       "    </tr>\n",
       "  </tbody>\n",
       "</table>\n",
       "</div>"
      ],
      "text/plain": [
       "             key                           date          pickup_datetime  \\\n",
       "153248  17778666   2009-11-19 21:59:00.00000086  2009-11-19 21:59:00 UTC   \n",
       "67802   54334677    2013-02-27 22:29:15.0000004  2013-02-27 22:29:15 UTC   \n",
       "148889  11815656   2014-06-01 08:48:00.00000094  2014-06-01 08:48:00 UTC   \n",
       "103093  28734805   2010-07-10 23:10:00.00000019  2010-07-10 23:10:00 UTC   \n",
       "104681  54482655  2013-09-29 13:36:00.000000167  2013-09-29 13:36:00 UTC   \n",
       "\n",
       "        pickup_longitude  pickup_latitude  dropoff_longitude  \\\n",
       "153248        -73.978585        40.748388         -73.976913   \n",
       "67802         -73.978198        40.752533         -73.909752   \n",
       "148889        -73.994242        40.751227         -73.999432   \n",
       "103093        -73.951705        40.778330         -73.956050   \n",
       "104681        -73.989120        40.736932         -73.782890   \n",
       "\n",
       "        dropoff_latitude  passenger_count  \n",
       "153248         40.784958                1  \n",
       "67802          40.874372                1  \n",
       "148889         40.762037                1  \n",
       "103093         40.777560                2  \n",
       "104681         40.643947                1  "
      ]
     },
     "execution_count": 164,
     "metadata": {},
     "output_type": "execute_result"
    }
   ],
   "source": [
    "X_train, X_test, y_train, y_test = train_test_split(df.drop(columns='fare_amount'), df['fare_amount'], test_size=0.2, random_state=42)\n",
    "X_train.head()"
   ]
  },
  {
   "cell_type": "code",
   "execution_count": 165,
   "metadata": {
    "id": "hW-QZN1ysiJr",
    "outputId": "34124413-5a9d-4a42-f173-2e7cf5879880"
   },
   "outputs": [
    {
     "data": {
      "text/html": [
       "<div>\n",
       "<style scoped>\n",
       "    .dataframe tbody tr th:only-of-type {\n",
       "        vertical-align: middle;\n",
       "    }\n",
       "\n",
       "    .dataframe tbody tr th {\n",
       "        vertical-align: top;\n",
       "    }\n",
       "\n",
       "    .dataframe thead th {\n",
       "        text-align: right;\n",
       "    }\n",
       "</style>\n",
       "<table border=\"1\" class=\"dataframe\">\n",
       "  <thead>\n",
       "    <tr style=\"text-align: right;\">\n",
       "      <th></th>\n",
       "      <th>key</th>\n",
       "      <th>pickup_longitude</th>\n",
       "      <th>pickup_latitude</th>\n",
       "      <th>dropoff_longitude</th>\n",
       "      <th>dropoff_latitude</th>\n",
       "      <th>passenger_count</th>\n",
       "    </tr>\n",
       "  </thead>\n",
       "  <tbody>\n",
       "    <tr>\n",
       "      <th>count</th>\n",
       "      <td>1.600000e+05</td>\n",
       "      <td>160000.000000</td>\n",
       "      <td>160000.000000</td>\n",
       "      <td>159999.000000</td>\n",
       "      <td>159999.000000</td>\n",
       "      <td>160000.000000</td>\n",
       "    </tr>\n",
       "    <tr>\n",
       "      <th>mean</th>\n",
       "      <td>2.771233e+07</td>\n",
       "      <td>-72.525896</td>\n",
       "      <td>39.936265</td>\n",
       "      <td>-72.525260</td>\n",
       "      <td>39.919258</td>\n",
       "      <td>1.684988</td>\n",
       "    </tr>\n",
       "    <tr>\n",
       "      <th>std</th>\n",
       "      <td>1.603218e+07</td>\n",
       "      <td>11.557753</td>\n",
       "      <td>8.090121</td>\n",
       "      <td>13.611271</td>\n",
       "      <td>6.880320</td>\n",
       "      <td>1.405686</td>\n",
       "    </tr>\n",
       "    <tr>\n",
       "      <th>min</th>\n",
       "      <td>1.000000e+00</td>\n",
       "      <td>-1340.648410</td>\n",
       "      <td>-74.015515</td>\n",
       "      <td>-3356.666300</td>\n",
       "      <td>-881.985513</td>\n",
       "      <td>0.000000</td>\n",
       "    </tr>\n",
       "    <tr>\n",
       "      <th>25%</th>\n",
       "      <td>1.379326e+07</td>\n",
       "      <td>-73.992062</td>\n",
       "      <td>40.734842</td>\n",
       "      <td>-73.991433</td>\n",
       "      <td>40.733835</td>\n",
       "      <td>1.000000</td>\n",
       "    </tr>\n",
       "    <tr>\n",
       "      <th>50%</th>\n",
       "      <td>2.775608e+07</td>\n",
       "      <td>-73.981834</td>\n",
       "      <td>40.752594</td>\n",
       "      <td>-73.980080</td>\n",
       "      <td>40.753044</td>\n",
       "      <td>1.000000</td>\n",
       "    </tr>\n",
       "    <tr>\n",
       "      <th>75%</th>\n",
       "      <td>4.155845e+07</td>\n",
       "      <td>-73.967212</td>\n",
       "      <td>40.767116</td>\n",
       "      <td>-73.963614</td>\n",
       "      <td>40.768055</td>\n",
       "      <td>2.000000</td>\n",
       "    </tr>\n",
       "    <tr>\n",
       "      <th>max</th>\n",
       "      <td>5.542357e+07</td>\n",
       "      <td>57.418457</td>\n",
       "      <td>1644.421482</td>\n",
       "      <td>1153.572603</td>\n",
       "      <td>872.697628</td>\n",
       "      <td>208.000000</td>\n",
       "    </tr>\n",
       "  </tbody>\n",
       "</table>\n",
       "</div>"
      ],
      "text/plain": [
       "                key  pickup_longitude  pickup_latitude  dropoff_longitude  \\\n",
       "count  1.600000e+05     160000.000000    160000.000000      159999.000000   \n",
       "mean   2.771233e+07        -72.525896        39.936265         -72.525260   \n",
       "std    1.603218e+07         11.557753         8.090121          13.611271   \n",
       "min    1.000000e+00      -1340.648410       -74.015515       -3356.666300   \n",
       "25%    1.379326e+07        -73.992062        40.734842         -73.991433   \n",
       "50%    2.775608e+07        -73.981834        40.752594         -73.980080   \n",
       "75%    4.155845e+07        -73.967212        40.767116         -73.963614   \n",
       "max    5.542357e+07         57.418457      1644.421482        1153.572603   \n",
       "\n",
       "       dropoff_latitude  passenger_count  \n",
       "count     159999.000000    160000.000000  \n",
       "mean          39.919258         1.684988  \n",
       "std            6.880320         1.405686  \n",
       "min         -881.985513         0.000000  \n",
       "25%           40.733835         1.000000  \n",
       "50%           40.753044         1.000000  \n",
       "75%           40.768055         2.000000  \n",
       "max          872.697628       208.000000  "
      ]
     },
     "execution_count": 165,
     "metadata": {},
     "output_type": "execute_result"
    }
   ],
   "source": [
    "X_train.describe()"
   ]
  },
  {
   "cell_type": "code",
   "execution_count": 168,
   "metadata": {},
   "outputs": [
    {
     "name": "stdout",
     "output_type": "stream",
     "text": [
      "Coordenadas inválidas: 10\n"
     ]
    }
   ],
   "source": [
    "coord = (\n",
    "    X_train['pickup_latitude'].between(-90, 90) &\n",
    "    X_train['dropoff_latitude'].between(-90, 90) &\n",
    "    X_train['pickup_longitude'].between(-180, 180) &\n",
    "    X_train['dropoff_longitude'].between(-180, 180)\n",
    ")\n",
    "print(\"Coordenadas inválidas:\", (~coord).sum())"
   ]
  },
  {
   "cell_type": "markdown",
   "metadata": {},
   "source": [
    "***JUSTIFICACION DE POR QUE DROPEAMOS COORDENADAS INVALIDAS***\n",
    "\n",
    "Primero validamos las coordenadas para evitar que valores inválidos generen distancias absurdas. Incluso dentro del rango [-90,90]/[-180,180]"
   ]
  },
  {
   "cell_type": "code",
   "execution_count": 183,
   "metadata": {},
   "outputs": [
    {
     "data": {
      "text/plain": [
       "<Axes: xlabel='distance_km'>"
      ]
     },
     "execution_count": 183,
     "metadata": {},
     "output_type": "execute_result"
    },
    {
     "data": {
      "image/png": "[encoded data removed]",
      "text/plain": [
       "<Figure size 640x480 with 1 Axes>"
      ]
     },
     "metadata": {},
     "output_type": "display_data"
    }
   ],
   "source": [
    "def haversine_km(lat1, lon1, lat2, lon2):\n",
    "    # retorna distancia en kilómetros (vectorizado)\n",
    "    R = 6371.0\n",
    "    lat1, lon1, lat2, lon2 = map(np.radians, (lat1, lon1, lat2, lon2))\n",
    "    dlat = lat2 - lat1\n",
    "    dlon = lon2 - lon1\n",
    "    a = np.sin(dlat/2)**2 + np.cos(lat1) * np.cos(lat2) * np.sin(dlon/2)**2\n",
    "    c = 2 * np.arcsin(np.sqrt(a))\n",
    "    return R * c\n",
    "\n",
    "\n",
    "X_train_copy = X_train[coord].copy()\n",
    "\n",
    "X_train_copy['distance_km'] = haversine_km(\n",
    "    X_train_copy['pickup_latitude'], X_train_copy['pickup_longitude'],\n",
    "    X_train_copy['dropoff_latitude'], X_train_copy['dropoff_longitude']\n",
    ")\n",
    "\n",
    "X_train_copy['distance_km'].describe()\n",
    "sns.boxplot(x=X_train_copy['distance_km'])"
   ]
  },
  {
   "cell_type": "code",
   "execution_count": 195,
   "metadata": {},
   "outputs": [
    {
     "name": "stdout",
     "output_type": "stream",
     "text": [
      "Q1: 1.22\n",
      "Q3: 3.87\n",
      "IQR: 2.66\n",
      "Bigote inferior: -2.77\n",
      "Bigote superior: 7.86\n",
      "Cantidad de outliers: 13388\n"
     ]
    }
   ],
   "source": [
    "\n",
    "# --- Seleccionamos la columna ---\n",
    "distancias = X_train_copy[\"distance_km\"]\n",
    "\n",
    "# --- Cuartiles ---\n",
    "Q1 = np.percentile(distancias, 25)\n",
    "Q3 = np.percentile(distancias, 75)\n",
    "\n",
    "# --- Rango intercuartílico (IQR) ---\n",
    "IQR = Q3 - Q1\n",
    "\n",
    "# --- Bigotes ---\n",
    "bigote_inferior = Q1 - 1.5 * IQR\n",
    "bigote_superior = Q3 + 1.5 * IQR\n",
    "\n",
    "# --- Resultados ---\n",
    "print(f\"Q1: {Q1:.2f}\")\n",
    "print(f\"Q3: {Q3:.2f}\")\n",
    "print(f\"IQR: {IQR:.2f}\")\n",
    "print(f\"Bigote inferior: {bigote_inferior:.2f}\")\n",
    "print(f\"Bigote superior: {bigote_superior:.2f}\")\n",
    "\n",
    "# --- Opcional: detectar outliers ---\n",
    "outliers = distancias[(distancias > bigote_superior)]\n",
    "print(f\"Cantidad de outliers: {len(outliers)}\")\n",
    "\n",
    "\n",
    "### Determinar que rango de km vamos a considerar como outliers¿¿¿¿"
   ]
  },
  {
   "cell_type": "code",
   "execution_count": 60,
   "metadata": {
    "id": "FPyrf0vbsiJs"
   },
   "outputs": [
    {
     "data": {
      "image/png": "[encoded data removed]",
      "text/plain": [
       "<Figure size 640x480 with 1 Axes>"
      ]
     },
     "metadata": {},
     "output_type": "display_data"
    },
    {
     "data": {
      "text/plain": [
       "passenger_count\n",
       "1      110730\n",
       "2       23541\n",
       "5       11227\n",
       "3        7087\n",
       "6        3423\n",
       "4        3411\n",
       "0         580\n",
       "208         1\n",
       "Name: count, dtype: int64"
      ]
     },
     "execution_count": 60,
     "metadata": {},
     "output_type": "execute_result"
    }
   ],
   "source": [
    "X_train[\"passenger_count\"].value_counts().sort_index().plot(kind='bar')\n",
    "plt.title(\"Distribucion de Passenger_Count\")\n",
    "plt.xlabel(\"Cantidad de pasajeros\")\n",
    "plt.ylabel(\"Frecuencia\")\n",
    "plt.show()\n",
    "X_train[\"passenger_count\"].value_counts()"
   ]
  },
  {
   "cell_type": "markdown",
   "metadata": {},
   "source": [
    "***AGREGAR JUSTIFICACION DE QUE VAMOS A HACER CON EL OUTLIER***\n",
    "No eliminamos filas innecesariamente y no inventamos datos arbitrarios. Usamos la moda porque refleja el valor más frecuente y es consistente con la realidad del dominio (viajes de 1 pasajero)."
   ]
  },
  {
   "cell_type": "code",
   "execution_count": 64,
   "metadata": {},
   "outputs": [
    {
     "data": {
      "text/html": [
       "<div>\n",
       "<style scoped>\n",
       "    .dataframe tbody tr th:only-of-type {\n",
       "        vertical-align: middle;\n",
       "    }\n",
       "\n",
       "    .dataframe tbody tr th {\n",
       "        vertical-align: top;\n",
       "    }\n",
       "\n",
       "    .dataframe thead th {\n",
       "        text-align: right;\n",
       "    }\n",
       "</style>\n",
       "<table border=\"1\" class=\"dataframe\">\n",
       "  <thead>\n",
       "    <tr style=\"text-align: right;\">\n",
       "      <th></th>\n",
       "      <th>key</th>\n",
       "      <th>date</th>\n",
       "      <th>pickup_datetime</th>\n",
       "      <th>pickup_longitude</th>\n",
       "      <th>pickup_latitude</th>\n",
       "      <th>dropoff_longitude</th>\n",
       "      <th>dropoff_latitude</th>\n",
       "      <th>passenger_count</th>\n",
       "    </tr>\n",
       "  </thead>\n",
       "  <tbody>\n",
       "    <tr>\n",
       "      <th>87946</th>\n",
       "      <td>32736015</td>\n",
       "      <td>2013-07-02 03:51:57.0000001</td>\n",
       "      <td>2013-07-02 03:51:57 UTC</td>\n",
       "      <td>-73.950581</td>\n",
       "      <td>40.779692</td>\n",
       "      <td>NaN</td>\n",
       "      <td>NaN</td>\n",
       "      <td>0</td>\n",
       "    </tr>\n",
       "  </tbody>\n",
       "</table>\n",
       "</div>"
      ],
      "text/plain": [
       "            key                         date          pickup_datetime  \\\n",
       "87946  32736015  2013-07-02 03:51:57.0000001  2013-07-02 03:51:57 UTC   \n",
       "\n",
       "       pickup_longitude  pickup_latitude  dropoff_longitude  dropoff_latitude  \\\n",
       "87946        -73.950581        40.779692                NaN               NaN   \n",
       "\n",
       "       passenger_count  \n",
       "87946                0  "
      ]
     },
     "execution_count": 64,
     "metadata": {},
     "output_type": "execute_result"
    }
   ],
   "source": [
    "X_train[X_train[\"dropoff_latitude\"].isnull()]\n",
    "X_train[\"dropoff_longitude\"][X_train[\"dropoff_longitude\"].isnull()]"
   ]
  },
  {
   "cell_type": "markdown",
   "metadata": {},
   "source": [
    "***AGREGAR JUSTIFICACION DE QUE VAMOS A HACER CON NULOS***\n"
   ]
  },
  {
   "cell_type": "code",
   "execution_count": 101,
   "metadata": {},
   "outputs": [
    {
     "name": "stdout",
     "output_type": "stream",
     "text": [
      "Porcentaje de valores negativos sobre el total de registros en y_train: 0.011875%\n"
     ]
    },
    {
     "data": {
      "image/png": "[encoded data removed]",
      "text/plain": [
       "<Figure size 640x480 with 1 Axes>"
      ]
     },
     "metadata": {},
     "output_type": "display_data"
    }
   ],
   "source": [
    "y_train.isnull().sum() # no hay nulos en y_train\n",
    "y_train[y_train <= 0].hist()\n",
    "negativos = y_train[y_train <= 0].size\n",
    "print(f\"Porcentaje de valores negativos sobre el total de registros en y_train: {negativos / y_train.size * 100}%\")  # porcentaje de negativos en y_train\n"
   ]
  },
  {
   "cell_type": "markdown",
   "metadata": {},
   "source": [
    "***AGREGAR JUSTIFICACION DE QUE VAMOS A HACER CON NEGATIVOS***\n",
    "“El target es la variable dependiente. No podemos imputar ni corregir arbitrariamente su valor porque introduciríamos ruido o falsos patrones. Decidimos eliminar esas filas, que representan 0.01% del dataset, por ser inconsistentes con la realidad.” \n",
    "Eliminamos las observaciones con fare_amount <= 0 ya que no representan situaciones reales y no es posible imputarlas en la variable objetivo. Esto afectó al X% de los datos"
   ]
  },
  {
   "cell_type": "code",
   "execution_count": null,
   "metadata": {},
   "outputs": [],
   "source": []
  },
  {
   "cell_type": "markdown",
   "metadata": {},
   "source": [
    "### COMMIT SEBA"
   ]
  }
 ],
 "metadata": {
  "colab": {
   "provenance": []
  },
  "kernelspec": {
   "display_name": "Python 3",
   "language": "python",
   "name": "python3"
  },
  "language_info": {
   "codemirror_mode": {
    "name": "ipython",
    "version": 3
   },
   "file_extension": ".py",
   "mimetype": "text/x-python",
   "name": "python",
   "nbconvert_exporter": "python",
   "pygments_lexer": "ipython3",
   "version": "3.11.5"
  },
  "orig_nbformat": 4
 },
 "nbformat": 4,
 "nbformat_minor": 0
}
